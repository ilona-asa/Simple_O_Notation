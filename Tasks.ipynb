{
 "cells": [
  {
   "cell_type": "code",
   "execution_count": 102,
   "metadata": {
    "collapsed": false
   },
   "outputs": [
    {
     "name": "stdout",
     "output_type": "stream",
     "text": [
      "First record of texts, 97424 22395 texts 90365 06212 at time 01-09-2016 06:03:22\n",
      "Last record of calls, 98447 62998 calls (080)46304537 at time 30-09-2016 23:57:15, lasting 2151 seconds\n"
     ]
    }
   ],
   "source": [
    "\"\"\"\n",
    "Read file into texts and calls.\n",
    "It's ok if you don't understand how to read files.\n",
    "\"\"\"\n",
    "import csv\n",
    "import time\n",
    "with open('texts.csv', 'r') as f:\n",
    "    reader = csv.reader(f)\n",
    "    texts = list(reader)\n",
    "\n",
    "with open('calls.csv', 'r') as f:\n",
    "    reader = csv.reader(f)\n",
    "    calls = list(reader)\n",
    "\n",
    "\n",
    "\"\"\"\n",
    "TASK 0:\n",
    "What is the first record of texts and what is the last record of calls?\n",
    "Print messages:\n",
    "\"First record of texts, <incoming number> texts <answering number> at time <time>\"\n",
    "\"Last record of calls, <incoming number> calls <answering number> at time <time>, lasting <during> seconds\"\n",
    "\"\"\"\n",
    "\n",
    "def first_text(texts):\n",
    "    first_text = texts[0]\n",
    "    return \"First record of texts, \" + first_text[0] + \" texts \" + first_text[1] + \" at time \" + first_text[2]\n",
    "\n",
    "def last_call(calls):\n",
    "    last_call = calls[len(calls)-1]\n",
    "    return \"Last record of calls, \" + last_call[0] + \" calls \" + last_call[1] + \" at time \" + last_call[2] + \", lasting \" + last_call[3] + \" seconds\"\n",
    "\n",
    "print(first_text(texts))\n",
    "print(last_call(calls))"
   ]
  },
  {
   "cell_type": "code",
   "execution_count": 101,
   "metadata": {
    "collapsed": false
   },
   "outputs": [
    {
     "name": "stdout",
     "output_type": "stream",
     "text": [
      "There are 570 different telephone numbers in the records.\n"
     ]
    }
   ],
   "source": [
    "\"\"\"\n",
    "Read file into texts and calls.\n",
    "It's ok if you don't understand how to read files.\n",
    "\"\"\"\n",
    "import csv\n",
    "with open('texts.csv', 'r') as f:\n",
    "    reader = csv.reader(f)\n",
    "    texts = list(reader)\n",
    "\n",
    "with open('calls.csv', 'r') as f:\n",
    "    reader = csv.reader(f)\n",
    "    calls = list(reader)\n",
    "\n",
    "\n",
    "\"\"\"\n",
    "TASK 1:\n",
    "How many different telephone numbers are there in the records? \n",
    "Print a message:\n",
    "\"There are <count> different telephone numbers in the records.\"\n",
    "\"\"\"\n",
    "\n",
    "def unique_telephone_numbers(texts, calls):\n",
    "    phones = []\n",
    "    for text in texts:\n",
    "        phones.append(text[0])\n",
    "        phones.append(text[1])\n",
    "    for call in calls:\n",
    "        phones.append(call[0])\n",
    "        phones.append(call[1])\n",
    "    phones_set = set(phones)\n",
    "    return \"There are \" + str(len(phones_set)) + \" different telephone numbers in the records.\"\n",
    "\n",
    "print(unique_telephone_numbers(texts, calls))\n"
   ]
  },
  {
   "cell_type": "code",
   "execution_count": 104,
   "metadata": {
    "collapsed": false
   },
   "outputs": [
    {
     "name": "stdout",
     "output_type": "stream",
     "text": [
      "(080)33251027 spent the longest time, 90456 seconds, on the phone during September 2016.\n"
     ]
    }
   ],
   "source": [
    "\"\"\"\n",
    "Read file into texts and calls.\n",
    "It's ok if you don't understand how to read files\n",
    "\"\"\"\n",
    "import csv\n",
    "with open('texts.csv', 'r') as f:\n",
    "    reader = csv.reader(f)\n",
    "    texts = list(reader)\n",
    "\n",
    "with open('calls.csv', 'r') as f:\n",
    "    reader = csv.reader(f)\n",
    "    calls = list(reader)\n",
    "\n",
    "\"\"\"\n",
    "TASK 2: Which telephone number spent the longest time on the phone\n",
    "during the period? Don't forget that time spent answering a call is\n",
    "also time spent on the phone.\n",
    "Print a message:\n",
    "\"<telephone number> spent the longest time, <total time> seconds, on the phone during \n",
    "September 2016.\".\n",
    "\"\"\"\n",
    "\n",
    "def on_the_phone(phone, calls):\n",
    "    time_spent = 0\n",
    "    for call in calls:\n",
    "        if phone == call[0]:\n",
    "            time_spent += int(call[3])\n",
    "        elif phone == call[1]:\n",
    "            time_spent += int(call[3])\n",
    "    return time_spent\n",
    "\n",
    "def unique_telephone_numbers(calls):\n",
    "    phones = []\n",
    "    for call in calls:\n",
    "        phones.append(call[0])\n",
    "        phones.append(call[1])\n",
    "    return set(phones)\n",
    "\n",
    "def total_time_spent(calls):\n",
    "    phones = unique_telephone_numbers(calls)\n",
    "    time_spent = []\n",
    "    for phone in phones:\n",
    "        time_spent.append(on_the_phone(phone, calls))\n",
    "    phone_spent = zip(time_spent, phones)\n",
    "    winner = max(phone_spent)\n",
    "    return winner[1] + \" spent the longest time, \"+ str(winner[0]) +\" seconds, on the phone during September 2016.\"\n",
    "        \n",
    "    \n",
    "print(total_time_spent(calls))"
   ]
  },
  {
   "cell_type": "code",
   "execution_count": 108,
   "metadata": {
    "collapsed": false
   },
   "outputs": [
    {
     "name": "stdout",
     "output_type": "stream",
     "text": [
      "The numbers called by people in Bangalore have codes:\n",
      "['022', '040', '04344', '044', '04546', '0471', '080', '0821', '74062', '74064', '74066', '77956', '78130', '78135', '78293', '78295', '81510', '81513', '81515', '81517', '81524', '83013', '84312', '84313', '84319', '87146', '90087', '90088', '90192', '90194', '90196', '90199', '90351', '90355', '90365', '90368', '92414', '92415', '92421', '92423', '92429', '93412', '93414', '93426', '93427', '93428', '93432', '93434', '94001', '94002', '94005', '94480', '94482', '94488', '94491', '94495', '95263', '95266', '95267', '96569', '97380', '97386', '97402', '97406', '97410', '97415', '97416', '97418', '97422', '97424', '98440', '98442', '98443', '98445', '98446', '98447', '98448', '98458', '98459', '99001', '99003', '99004', '99612']\n",
      "5.14 percent of calls from fixed lines in Bangalore are calls to other fixed lines in Bangalore.\n"
     ]
    }
   ],
   "source": [
    "\"\"\"\n",
    "Read file into texts and calls.\n",
    "It's ok if you don't understand how to read files.\n",
    "\"\"\"\n",
    "import csv\n",
    "\n",
    "with open('texts.csv', 'r') as f:\n",
    "    reader = csv.reader(f)\n",
    "    texts = list(reader)\n",
    "\n",
    "with open('calls.csv', 'r') as f:\n",
    "    reader = csv.reader(f)\n",
    "    calls = list(reader)\n",
    "\n",
    "\"\"\"\n",
    "TASK 3:\n",
    "(080) is the area code for fixed line telephones in Bangalore.\n",
    "Fixed line numbers include parentheses, so Bangalore numbers\n",
    "have the form (080)xxxxxxx.)\n",
    "\n",
    "Part A: Find all of the area codes and mobile prefixes called by people\n",
    "in Bangalore.\n",
    " - Fixed lines start with an area code enclosed in brackets. The area\n",
    "   codes vary in length but always begin with 0.\n",
    " - Mobile numbers have no parentheses, but have a space in the middle\n",
    "   of the number to help readability. The prefix of a mobile number\n",
    "   is its first four digits, and they always start with 7, 8 or 9.\n",
    " - Telemarketers' numbers have no parentheses or space, but they start\n",
    "   with the area code 140.\n",
    "\n",
    "Print the answer as part of a message:\n",
    "\"The numbers called by people in Bangalore have codes:\"\n",
    " <list of codes>\n",
    "The list of codes should be print out one per line in order with no duplicates.\n",
    "\n",
    "Part B: What percentage of calls from fixed lines in Bangalore are made\n",
    "to fixed lines also in Bangalore? In other words, of all the calls made\n",
    "from a number starting with \"(080)\", what percentage of these calls\n",
    "were made to a number also starting with \"(080)\"?\n",
    "\n",
    "Print the answer as a part of a message::\n",
    "\"<percentage> percent of calls from fixed lines in Bangalore are calls\n",
    "to other fixed lines in Bangalore.\"\n",
    "The percentage should have 2 decimal digits\n",
    "\"\"\"\n",
    "\n",
    "import re\n",
    "\n",
    "# Part A\n",
    "def find_Bangalore_caller(calls):\n",
    "    codes = []\n",
    "    for call in calls:\n",
    "        if '(080)' in call[0]:\n",
    "            match = re.search(\"\\([0-9]+\\)\", call[1])\n",
    "            if match:\n",
    "                code = match.group(0)\n",
    "                codes.append(code[1:-1])\n",
    "            elif re.search(\"^[7-9]\", call[1]):\n",
    "                match = re.search(\"^[0-9]*\", call[1])\n",
    "                codes.append(match.group(0))\n",
    "            else:\n",
    "                match = re.search(\"^140\", call[1])\n",
    "                codes.append(match.group(0))\n",
    "    return sorted(set(codes))\n",
    "\n",
    "print(\"The numbers called by people in Bangalore have codes:\")\n",
    "print(find_Bangalore_caller(calls))\n",
    "\n",
    "\n",
    "# Part B\n",
    "def percent_Bangalore(calls):\n",
    "    total = float(len(calls))\n",
    "    count = 0\n",
    "    for call in calls:\n",
    "        if '(080)' in call[0] and '(080)' in call[1]:\n",
    "            count += 1\n",
    "    percentage = (count/total)*100\n",
    "    return percentage\n",
    "    \n",
    "from_B_to_B = percent_Bangalore(calls)\n",
    "print(\"{} percent of calls from fixed lines in Bangalore are calls to other fixed lines in Bangalore.\".format(round(from_B_to_B,2)))\n"
   ]
  },
  {
   "cell_type": "code",
   "execution_count": 100,
   "metadata": {
    "collapsed": false
   },
   "outputs": [
    {
     "name": "stdout",
     "output_type": "stream",
     "text": [
      "These numbers could be telemarketers: \n",
      "['(011)21017178', '(011)68486606', '(022)21884607', '(022)22288051', '(022)28765220', '(022)28952819', '(022)29303640', '(022)30044349', '(022)32517986', '(022)34715405', '(022)37572285', '(022)38214945', '(022)39006198', '(022)40840621', '(022)44927512', '(022)45444747', '(022)46574732', '(022)47410783', '(022)60273083', '(022)62120910', '(022)65548497', '(022)66911540', '(022)68535788', '(022)69042431', '(033)25441815', '(040)26738737', '(040)30429041', '(040)34008657', '(040)36649724', '(040)66729318', '(040)69695864', '(04344)211113', '(04344)228249', '(04344)316423', '(04344)322628', '(04344)615310', '(04344)617351', '(04344)649705', '(044)20550065', '(044)22020822', '(044)24037112', '(044)25144377', '(044)27523585', '(044)27641880', '(044)30360652', '(044)30727085', '(044)38044356', '(044)41581342', '(044)45416964', '(044)45838604', '(044)48154960', '(044)49481100', '(044)49868415', '(044)69775060', '(04546)218519', '(04546)267875', '(04546)388977', '(0471)2171438', '(0471)2225098', '(0471)2953539', '(0471)4255177', '(0471)6537077', '(0471)6579079', '(080)20123809', '(080)20227149', '(080)20383942', '(080)21129907', '(080)21652896', '(080)21697299', '(080)22759842', '(080)22816760', '(080)23802940', '(080)24444677', '(080)25820765', '(080)25863765', '(080)26097534', '(080)27498339', '(080)29435303', '(080)29483476', '(080)30231886', '(080)30270642', '(080)31606520', '(080)31863188', '(080)31982490', '(080)32255824', '(080)32390650', '(080)32638303', '(080)32647101', '(080)32679828', '(080)32828889', '(080)33118033', '(080)33251027', '(080)33277651', '(080)34121098', '(080)34932254', '(080)35121497', '(080)35538852', '(080)35986130', '(080)35987804', '(080)37913009', '(080)39755879', '(080)39991213', '(080)40362016', '(080)40395498', '(080)40929452', '(080)41095396', '(080)41203315', '(080)41336994', '(080)41712046', '(080)43206415', '(080)43215621', '(080)43562014', '(080)43685310', '(080)43901222', '(080)44046839', '(080)44050207', '(080)44076727', '(080)44357306', '(080)44389098', '(080)45291968', '(080)45547058', '(080)45687418', '(080)46221576', '(080)46304537', '(080)46566171', '(080)46702492', '(080)46772413', '(080)47459867', '(080)47999451', '(080)48462898', '(080)49328664', '(080)49796269', '(080)60062475', '(080)60068611', '(080)60463379', '(080)60998034', '(080)61123756', '(080)61419142', '(080)62164823', '(080)62342282', '(080)62963633', '(080)63623429', '(080)64015211', '(080)64047472', '(080)64431120', '(080)64765396', '(080)64819785', '(080)65023950', '(080)65275591', '(080)66044294', '(080)66857551', '(080)66955387', '(080)67362492', '(080)67426410', '(080)68104927', '(080)68739140', '(080)69104549', '(080)69150162', '(080)69245029', '(080)69564399', '(080)69609453', '(080)69887826', '(0821)2135265', '(0821)3257740', '(0821)3537229', '(0821)3602212', '(0821)3774599', '(0821)4753474', '(0821)4816394', '(0821)6141380', '(08214175)358', '(0824)2022081', '(0824)2145844', '(0824)6366719', '1400481538', '1401747654', '1402316533', '1403072432', '1403579926', '1404073047', '1404368883', '1404787681', '1407539117', '1408371942', '1408409918', '1408672243', '1409421631', '1409668775', '1409994233', '70127 59322', '74064 66270', '74065 10917', '74292 23928', '74298 18325', '74298 85702', '77956 55474', '78130 00821', '78130 36804', '78133 71458', '78134 03625', '78135 69048', '78136 54214', '78138 93826', '78290 99865', '78291 94593', '78293 38561', '78295 20931', '78993 89387', '81510 47188', '81513 36123', '84313 80377', '84319 39746', '84319 42810', '84319 52539', '87140 67779', '87144 42283', '87144 55014', '87146 58071', '87149 75762', '89071 31755', '89071 32787', '89071 50880', '89076 07067', '90085 20915', '90089 69682', '90192 30758', '90193 16567', '90193 61937', '90196 73585', '90197 38885', '90199 67471', '90351 49472', '90351 90193', '90354 08732', '90355 49499', '90357 25284', '90368 95100', '92414 69419', '92415 66985', '92423 51078', '92426 65661', '92426 72402', '93412 26084', '93414 19669', '93415 21881', '93418 82576', '93420 59147', '93426 76415', '93427 40118', '93428 98469', '93430 54160', '93432 24657', '93435 31225', '94001 62063', '94002 85593', '94005 20878', '94489 82688', '94491 05266', '94495 03761', '95263 76972', '95266 42732', '96569 95359', '97384 69866', '97385 35042', '97393 52893', '97402 57057', '97403 88244', '97404 30456', '97404 90013', '97406 93118', '97407 84573', '97410 27512', '97414 35000', '97414 97237', '97416 18084', '97418 46131', '97418 59299', '97419 90520', '97425 79921', '97426 64618', '97427 87999', '97429 02055', '97442 45192', '97448 02140', '98440 71648', '98442 73671', '98443 72004', '98444 16192', '98444 42212', '98444 63396', '98445 27876', '98445 42844', '98445 71741', '98445 85687', '98447 62998', '98448 88411', '98453 86521', '98453 94494', '98456 86153', '98457 75681', '98458 94162', '98459 20681', '99002 80226', '99617 25274']\n"
     ]
    }
   ],
   "source": [
    "\"\"\"\n",
    "Read file into texts and calls.\n",
    "It's ok if you don't understand how to read files.\n",
    "\"\"\"\n",
    "import csv\n",
    "\n",
    "with open('texts.csv', 'r') as f:\n",
    "    reader = csv.reader(f)\n",
    "    texts = list(reader)\n",
    "\n",
    "with open('calls.csv', 'r') as f:\n",
    "    reader = csv.reader(f)\n",
    "    calls = list(reader)\n",
    "\n",
    "\"\"\"\n",
    "TASK 4:\n",
    "The telephone company want to identify numbers that might be doing\n",
    "telephone marketing. Create a set of possible telemarketers:\n",
    "these are numbers that make outgoing calls but never send texts,\n",
    "receive texts or receive incoming calls.\n",
    "\n",
    "Print a message:\n",
    "\"These numbers could be telemarketers: \"\n",
    "<list of numbers>\n",
    "The list of numbers should be print out one per line in lexicographic order with no duplicates.\n",
    "\"\"\"\n",
    "import re\n",
    "def find_telemarketers(calls, texts):\n",
    "    telemarketers = list()\n",
    "    receiver = all_call_receiver(calls)\n",
    "    texter = all_text_participant(texts, 0)\n",
    "    text_receiver = all_text_participant(texts, 1)\n",
    "    for call in calls:\n",
    "        caller = call[0]\n",
    "        if re.search(\"^140\", caller):\n",
    "            telemarketers.append(caller)\n",
    "        elif not (caller in receiver and caller in texter and caller in text_receiver):\n",
    "            telemarketers.append(caller)\n",
    "    return sorted(set(telemarketers))\n",
    "\n",
    "def all_call_receiver(calls):\n",
    "    receiver = list()\n",
    "    for call in calls:\n",
    "        receiver.append(call[1])\n",
    "    return set(receiver)\n",
    "\n",
    "def all_text_participant(texts, index):\n",
    "    texter = list()\n",
    "    for text in texts:\n",
    "        texter.append(text[index])\n",
    "    return set(texter)\n",
    "        \n",
    "\n",
    "print(\"These numbers could be telemarketers: \")\n",
    "print(find_telemarketers(calls, texts))\n"
   ]
  },
  {
   "cell_type": "code",
   "execution_count": null,
   "metadata": {
    "collapsed": true
   },
   "outputs": [],
   "source": []
  }
 ],
 "metadata": {
  "anaconda-cloud": {},
  "kernelspec": {
   "display_name": "Python [default]",
   "language": "python",
   "name": "python2"
  },
  "language_info": {
   "codemirror_mode": {
    "name": "ipython",
    "version": 2
   },
   "file_extension": ".py",
   "mimetype": "text/x-python",
   "name": "python",
   "nbconvert_exporter": "python",
   "pygments_lexer": "ipython2",
   "version": "2.7.12"
  }
 },
 "nbformat": 4,
 "nbformat_minor": 1
}
