{
 "cells": [
  {
   "cell_type": "code",
   "execution_count": 102,
   "metadata": {
    "collapsed": false
   },
   "outputs": [
    {
     "name": "stdout",
     "output_type": "stream",
     "text": [
      "First record of texts, 97424 22395 texts 90365 06212 at time 01-09-2016 06:03:22\n",
      "Last record of calls, 98447 62998 calls (080)46304537 at time 30-09-2016 23:57:15, lasting 2151 seconds\n"
     ]
    }
   ],
   "source": [
    "\"\"\"\n",
    "Read file into texts and calls.\n",
    "It's ok if you don't understand how to read files.\n",
    "\"\"\"\n",
    "import csv\n",
    "import time\n",
    "with open('texts.csv', 'r') as f:\n",
    "    reader = csv.reader(f)\n",
    "    texts = list(reader)\n",
    "\n",
    "with open('calls.csv', 'r') as f:\n",
    "    reader = csv.reader(f)\n",
    "    calls = list(reader)\n",
    "\n",
    "\n",
    "\"\"\"\n",
    "TASK 0:\n",
    "What is the first record of texts and what is the last record of calls?\n",
    "Print messages:\n",
    "\"First record of texts, <incoming number> texts <answering number> at time <time>\"\n",
    "\"Last record of calls, <incoming number> calls <answering number> at time <time>, lasting <during> seconds\"\n",
    "\"\"\"\n",
    "\n",
    "def first_text(texts):\n",
    "    first_text = texts[0]\n",
    "    return \"First record of texts, \" + first_text[0] + \" texts \" + first_text[1] + \" at time \" + first_text[2]\n",
    "\n",
    "def last_call(calls):\n",
    "    last_call = calls[len(calls)-1]\n",
    "    return \"Last record of calls, \" + last_call[0] + \" calls \" + last_call[1] + \" at time \" + last_call[2] + \", lasting \" + last_call[3] + \" seconds\"\n",
    "\n",
    "print(first_text(texts))\n",
    "print(last_call(calls))"
   ]
  },
  {
   "cell_type": "code",
   "execution_count": 32,
   "metadata": {
    "collapsed": false
   },
   "outputs": [
    {
     "name": "stdout",
     "output_type": "stream",
     "text": [
      "There are 570 different telephone numbers in the records.\n"
     ]
    }
   ],
   "source": [
    "\"\"\"\n",
    "Read file into texts and calls.\n",
    "It's ok if you don't understand how to read files.\n",
    "\"\"\"\n",
    "import csv\n",
    "with open('texts.csv', 'r') as f:\n",
    "    reader = csv.reader(f)\n",
    "    texts = list(reader)\n",
    "\n",
    "with open('calls.csv', 'r') as f:\n",
    "    reader = csv.reader(f)\n",
    "    calls = list(reader)\n",
    "\n",
    "\n",
    "\"\"\"\n",
    "TASK 1:\n",
    "How many different telephone numbers are there in the records? \n",
    "Print a message:\n",
    "\"There are <count> different telephone numbers in the records.\"\n",
    "\"\"\"\n",
    "\n",
    "def unique_telephone_numbers(texts, calls):\n",
    "    phones = set()\n",
    "    for text in texts:\n",
    "        phones.add(text[0])\n",
    "        phones.add(text[1])\n",
    "    for call in calls:\n",
    "        phones.add(call[0])\n",
    "        phones.add(call[1])\n",
    "    return \"There are \" + str(len(phones)) + \" different telephone numbers in the records.\"\n",
    "\n",
    "print(unique_telephone_numbers(texts, calls))\n"
   ]
  },
  {
   "cell_type": "code",
   "execution_count": 104,
   "metadata": {
    "collapsed": false
   },
   "outputs": [
    {
     "name": "stdout",
     "output_type": "stream",
     "text": [
      "(080)33251027 spent the longest time, 90456 seconds, on the phone during September 2016.\n"
     ]
    }
   ],
   "source": [
    "\"\"\"\n",
    "Read file into texts and calls.\n",
    "It's ok if you don't understand how to read files\n",
    "\"\"\"\n",
    "import csv\n",
    "with open('texts.csv', 'r') as f:\n",
    "    reader = csv.reader(f)\n",
    "    texts = list(reader)\n",
    "\n",
    "with open('calls.csv', 'r') as f:\n",
    "    reader = csv.reader(f)\n",
    "    calls = list(reader)\n",
    "\n",
    "\"\"\"\n",
    "TASK 2: Which telephone number spent the longest time on the phone\n",
    "during the period? Don't forget that time spent answering a call is\n",
    "also time spent on the phone.\n",
    "Print a message:\n",
    "\"<telephone number> spent the longest time, <total time> seconds, on the phone during \n",
    "September 2016.\".\n",
    "\"\"\"\n",
    "\n",
    "def on_the_phone(phone, calls):\n",
    "    time_spent = 0\n",
    "    for call in calls:\n",
    "        if phone == call[0]:\n",
    "            time_spent += int(call[3])\n",
    "        elif phone == call[1]:\n",
    "            time_spent += int(call[3])\n",
    "    return time_spent\n",
    "\n",
    "def unique_telephone_numbers(calls):\n",
    "    phones = []\n",
    "    for call in calls:\n",
    "        phones.append(call[0])\n",
    "        phones.append(call[1])\n",
    "    return set(phones)\n",
    "\n",
    "def total_time_spent(calls):\n",
    "    phones = unique_telephone_numbers(calls)\n",
    "    time_spent = []\n",
    "    for phone in phones:\n",
    "        time_spent.append(on_the_phone(phone, calls))\n",
    "    phone_spent = zip(time_spent, phones)\n",
    "    winner = max(phone_spent)\n",
    "    return winner[1] + \" spent the longest time, \"+ str(winner[0]) +\" seconds, on the phone during September 2016.\"\n",
    "        \n",
    "    \n",
    "print(total_time_spent(calls))"
   ]
  },
  {
   "cell_type": "code",
   "execution_count": 29,
   "metadata": {
    "collapsed": false
   },
   "outputs": [
    {
     "name": "stdout",
     "output_type": "stream",
     "text": [
      "The numbers called by people in Bangalore have codes:\n",
      "['022', '040', '04344', '044', '04546', '0471', '080', '0821', '74062', '74064', '74066', '77956', '78130', '78135', '78293', '78295', '81510', '81513', '81515', '81517', '81524', '83013', '84312', '84313', '84319', '87146', '90087', '90088', '90192', '90194', '90196', '90199', '90351', '90355', '90365', '90368', '92414', '92415', '92421', '92423', '92429', '93412', '93414', '93426', '93427', '93428', '93432', '93434', '94001', '94002', '94005', '94480', '94482', '94488', '94491', '94495', '95263', '95266', '95267', '96569', '97380', '97386', '97402', '97406', '97410', '97415', '97416', '97418', '97422', '97424', '98440', '98442', '98443', '98445', '98446', '98447', '98448', '98458', '98459', '99001', '99003', '99004', '99612']\n",
      "24.18 percent of calls from fixed lines in Bangalore are calls to other fixed lines in Bangalore.\n"
     ]
    }
   ],
   "source": [
    "\"\"\"\n",
    "Read file into texts and calls.\n",
    "It's ok if you don't understand how to read files.\n",
    "\"\"\"\n",
    "import csv\n",
    "\n",
    "with open('texts.csv', 'r') as f:\n",
    "    reader = csv.reader(f)\n",
    "    texts = list(reader)\n",
    "\n",
    "with open('calls.csv', 'r') as f:\n",
    "    reader = csv.reader(f)\n",
    "    calls = list(reader)\n",
    "\n",
    "\"\"\"\n",
    "TASK 3:\n",
    "(080) is the area code for fixed line telephones in Bangalore.\n",
    "Fixed line numbers include parentheses, so Bangalore numbers\n",
    "have the form (080)xxxxxxx.)\n",
    "\n",
    "Part A: Find all of the area codes and mobile prefixes called by people\n",
    "in Bangalore.\n",
    " - Fixed lines start with an area code enclosed in brackets. The area\n",
    "   codes vary in length but always begin with 0.\n",
    " - Mobile numbers have no parentheses, but have a space in the middle\n",
    "   of the number to help readability. The prefix of a mobile number\n",
    "   is its first four digits, and they always start with 7, 8 or 9.\n",
    " - Telemarketers' numbers have no parentheses or space, but they start\n",
    "   with the area code 140.\n",
    "\n",
    "Print the answer as part of a message:\n",
    "\"The numbers called by people in Bangalore have codes:\"\n",
    " <list of codes>\n",
    "The list of codes should be print out one per line in order with no duplicates.\n",
    "\n",
    "Part B: What percentage of calls from fixed lines in Bangalore are made\n",
    "to fixed lines also in Bangalore? In other words, of all the calls made\n",
    "from a number starting with \"(080)\", what percentage of these calls\n",
    "were made to a number also starting with \"(080)\"?\n",
    "\n",
    "Print the answer as a part of a message::\n",
    "\"<percentage> percent of calls from fixed lines in Bangalore are calls\n",
    "to other fixed lines in Bangalore.\"\n",
    "The percentage should have 2 decimal digits\n",
    "\"\"\"\n",
    "\n",
    "import re\n",
    "\n",
    "# Part A\n",
    "def find_Bangalore_caller(calls):\n",
    "    codes = []\n",
    "    for call in calls:\n",
    "        if '(080)' in call[0]:\n",
    "            match = re.search(\"\\([0-9]+\\)\", call[1])\n",
    "            if match:\n",
    "                code = match.group(0)\n",
    "                codes.append(code[1:-1])\n",
    "            elif re.search(\"^[7-9]\", call[1]):\n",
    "                match = re.search(\"^[0-9]*\", call[1])\n",
    "                codes.append(match.group(0))\n",
    "            else:\n",
    "                match = re.search(\"^140\", call[1])\n",
    "                codes.append(match.group(0))\n",
    "    return sorted(set(codes))\n",
    "\n",
    "print(\"The numbers called by people in Bangalore have codes:\")\n",
    "print(find_Bangalore_caller(calls))\n",
    "\n",
    "\n",
    "# Part B\n",
    "def percent_Bangalore(calls):\n",
    "    total = []\n",
    "    calls_between_Bangalore = []\n",
    "    for call in calls:\n",
    "        # find all unique calls from Bangalore\n",
    "        if '(080)' in call[0]:\n",
    "            if not [call[0], call[1]] in total:\n",
    "                total.append([call[0], call[1]])\n",
    "        # find all call between Bangalore's phone\n",
    "        if '(080)' in call[0] and '(080)' in call[1]:\n",
    "            if not [call[0], call[1]] in calls_between_Bangalore:\n",
    "                calls_between_Bangalore.append([call[0], call[1]])\n",
    "#     print(calls_between_Bangalore)\n",
    "#     print(len(calls_between_Bangalore))\n",
    "#     print(len(total))\n",
    "    percentage = (len(calls_between_Bangalore)/float(len(total)))*100\n",
    "    return percentage\n",
    "    \n",
    "from_B_to_B = percent_Bangalore(calls)\n",
    "print(\"{} percent of calls from fixed lines in Bangalore are calls to other fixed lines in Bangalore.\".format(round(from_B_to_B,2)))\n"
   ]
  },
  {
   "cell_type": "code",
   "execution_count": 4,
   "metadata": {
    "collapsed": false
   },
   "outputs": [
    {
     "name": "stdout",
     "output_type": "stream",
     "text": [
      "These numbers could be telemarketers: \n",
      "['(022)37572285', '(022)65548497', '(022)68535788', '(022)69042431', '(040)30429041', '(044)22020822', '(0471)2171438', '(0471)6579079', '(080)20383942', '(080)25820765', '(080)31606520', '(080)40362016', '(080)60463379', '(080)60998034', '(080)62963633', '(080)64015211', '(080)69887826', '(0821)3257740', '1400481538', '1401747654', '1402316533', '1403072432', '1403579926', '1404073047', '1404368883', '1404787681', '1407539117', '1408371942', '1408409918', '1408672243', '1409421631', '1409668775', '1409994233', '74064 66270', '78291 94593', '87144 55014', '90351 90193', '92414 69419', '94495 03761', '97404 30456', '97407 84573', '97442 45192', '99617 25274']\n"
     ]
    }
   ],
   "source": [
    "\"\"\"\n",
    "Read file into texts and calls.\n",
    "It's ok if you don't understand how to read files.\n",
    "\"\"\"\n",
    "import csv\n",
    "\n",
    "with open('texts.csv', 'r') as f:\n",
    "    reader = csv.reader(f)\n",
    "    texts = list(reader)\n",
    "\n",
    "with open('calls.csv', 'r') as f:\n",
    "    reader = csv.reader(f)\n",
    "    calls = list(reader)\n",
    "\n",
    "\"\"\"\n",
    "TASK 4:\n",
    "The telephone company want to identify numbers that might be doing\n",
    "telephone marketing. Create a set of possible telemarketers:\n",
    "these are numbers that make outgoing calls but never send texts,\n",
    "receive texts or receive incoming calls.\n",
    "\n",
    "Print a message:\n",
    "\"These numbers could be telemarketers: \"\n",
    "<list of numbers>\n",
    "The list of numbers should be print out one per line in lexicographic order with no duplicates.\n",
    "\"\"\"\n",
    "import re\n",
    "def find_telemarketers(calls, texts):\n",
    "    telemarketers = list()\n",
    "    receiver = all_call_receiver(calls)\n",
    "    texter = all_text_participant(texts, 0)\n",
    "    text_receiver = all_text_participant(texts, 1)\n",
    "    for call in calls:\n",
    "        caller = call[0]\n",
    "        if re.search(\"^140\", caller):\n",
    "            telemarketers.append(caller)\n",
    "        elif not caller in receiver and not caller in texter and not caller in text_receiver:\n",
    "            telemarketers.append(caller)\n",
    "    return sorted(set(telemarketers))\n",
    "\n",
    "def all_call_receiver(calls):\n",
    "    receiver = list()\n",
    "    for call in calls:\n",
    "        receiver.append(call[1])\n",
    "    return set(receiver)\n",
    "\n",
    "def all_text_participant(texts, index):\n",
    "    texter = list()\n",
    "    for text in texts:\n",
    "        texter.append(text[index])\n",
    "    return set(texter)\n",
    "        \n",
    "\n",
    "print(\"These numbers could be telemarketers: \")\n",
    "print(find_telemarketers(calls, texts))\n"
   ]
  },
  {
   "cell_type": "code",
   "execution_count": null,
   "metadata": {
    "collapsed": true
   },
   "outputs": [],
   "source": []
  }
 ],
 "metadata": {
  "anaconda-cloud": {},
  "kernelspec": {
   "display_name": "Python [default]",
   "language": "python",
   "name": "python2"
  },
  "language_info": {
   "codemirror_mode": {
    "name": "ipython",
    "version": 2
   },
   "file_extension": ".py",
   "mimetype": "text/x-python",
   "name": "python",
   "nbconvert_exporter": "python",
   "pygments_lexer": "ipython2",
   "version": "2.7.12"
  }
 },
 "nbformat": 4,
 "nbformat_minor": 1
}
